{
  "cells": [
    {
      "cell_type": "markdown",
      "metadata": {
        "id": "view-in-github",
        "colab_type": "text"
      },
      "source": [
        "<a href=\"https://colab.research.google.com/github/Drmcoelho/APILLMML/blob/main/multimodal_pipeline.ipynb\" target=\"_parent\"><img src=\"https://colab.research.google.com/assets/colab-badge.svg\" alt=\"Open In Colab\"/></a>"
      ]
    },
    {
      "metadata": {
        "id": "8271152d"
      },
      "id": "8271152d",
      "cell_type": "markdown",
      "source": [
        "# 🚀 Etapa 0: Estrutura e Roadmap Interativo\n",
        "\n",
        "> **Visão Geral:**  \n",
        "> Nesta etapa inicial, definimos de forma detalhada toda a organização das etapas subsequentes. Use o sumário clicável para navegar e prepare-se para uma jornada de desenvolvimento multimodal robusta.\n",
        "\n",
        "---\n",
        "\n",
        "<details>\n",
        "<summary><strong>📑 Sumário Interativo</strong></summary>\n",
        "\n",
        "1. [Etapa 1: Montagem de Ambiente & Segurança](#etapa-1-montagem-de-ambiente--seguranca)  \n",
        "2. [Etapa 2: Seleção e Ingestão de PDFs](#etapa-2-selecao-e-ingestao-de-pdfs)  \n",
        "3. [Etapa 3: Extração Avançada de Texto](#etapa-3-extracao-avancada-de-texto)  \n",
        "4. [Etapa 4: Análise Exploratória Clínica](#etapa-4-analise-exploratoria-clinica)  \n",
        "5. [Etapa 5: Pré-processamento & Tokenização](#etapa-5-pre-processamento--tokenizacao)  \n",
        "6. [Etapa 6: Construção de Dados Multimodal](#etapa-6-construcao-de-dados-multimodal)  \n",
        "7. [Etapa 7: Modelos Candidatos & Hyperparams](#etapa-7-modelos-candidatos--hyperparams)  \n",
        "8. [Etapa 8: Treinamento Avançado](#etapa-8-treinamento-avancado)  \n",
        "9. [Etapa 9: Avaliação Clínica Especializada](#etapa-9-avaliacao-clinica-especializada)  \n",
        "10. [Etapa 10: Exportação do Modelo Ótimo](#etapa-10-exportacao-do-modelo-otimo)  \n",
        "11. [Etapa 11: Deploy & Cloud-Burst](#etapa-11-deploy--cloud-burst)  \n",
        "12. [Etapa 12: Monitoramento & Atualização](#etapa-12-monitoramento--atualizacao)  \n",
        "</details>\n",
        "\n",
        "---\n",
        "\n",
        "## 📋 Roadmap em 3 Níveis\n",
        "\n",
        "| Fase           | Objetivo Principal                                          | Duração       |\n",
        "|:--------------:|:------------------------------------------------------------|:-------------:|\n",
        "| **Básico**     | PDF → Texto → Fine-tune inicial                             | 1–2 dias      |\n",
        "| **Intermediário**| Imagens & Áudio → Fusion multimodal                       | 2 semanas     |\n",
        "| **Avançado**   | Segurança, Compliance, Deploy, Monitoramento                | 1 semana      |\n",
        "\n",
        "---\n",
        "\n",
        "## 🔧 Cheatsheet Rápida\n",
        "\n",
        "| Componente                | Comando/Referência                            | Notas Rápidas                                           |\n",
        "|:-------------------------:|:-----------------------------------------------|:--------------------------------------------------------|\n",
        "| Montar Drive              | `drive.mount('/content/drive')`                | Use `force_remount=True` para atualizar montagem        |\n",
        "| Extração (PyMuPDF)        | `fitz.open(...).get_text(\"text\")`              | Mais rápido que pdfminer                                |\n",
        "| Tokenização (Clinical)    | `AutoTokenizer.from_pretrained(...)`           | Modelos Bio_ClinicalBERT, etc.                          |\n",
        "| Mixed Precision           | `TrainingArguments(fp16=True, bf16=True)`      | Habilitar BF16 em Colab Pro                             |\n",
        "| DVC Data/Model Versioning | `dvc run -n step ...`                          | Reprodutibilidade completa                              |\n",
        "| PHI Detection             | `spaCy EntityRuler` + regex                    | Redirecionar logs para `/mnt/data/logs`                 |\n"
      ]
    },
    {
      "metadata": {
        "id": "88139ce6"
      },
      "id": "88139ce6",
      "cell_type": "markdown",
      "source": [
        "# 🌟 Introdução Mega Robusta\n",
        "\n",
        "Este notebook guia você em um **pipeline multimodal** de aprendizado profundo para **medicina**, desde a ingestão de PDFs até o **deploy** de um modelo clínico, com:\n",
        "\n",
        "- **Cheatsheets** e **dicas de mestre** para acelerar o desenvolvimento.\n",
        "- **Tabelas de referência** para consulta imediata.\n",
        "- **Widgets interativos** e **visualizações avançadas**.\n",
        "- **Segurança** e **compliance** (HIPAA/GDPR) embutidos.\n",
        "- **Estratégia de cache** para reutilização de dados entre sessões.\n",
        "\n",
        "Prepare-se para uma experiência de codificação **robusta**, **inovadora** e **produtiva**!\n"
      ]
    },
    {
      "metadata": {
        "id": "3e826d1a"
      },
      "id": "3e826d1a",
      "cell_type": "markdown",
      "source": [
        "## Etapa 1: Montagem de Ambiente & Segurança\n",
        "\n",
        "Nesta etapa, configuramos o ambiente **Google Colab Pro**, instalamos dependências com cache, configuramos `accelerate`, gerenciamos segredos via variáveis de ambiente nativas do Colab com fallback interativo, fazemos login no **Weights & Biases** automaticamente e criamos diretórios de cache.\n"
      ]
    },
    {
      "source": [
        "import os, json\n",
        "import torch\n",
        "from google.colab import drive\n",
        "import wandb\n",
        "from getpass import getpass\n",
        "from IPython.display import display, HTML\n",
        "\n",
        "# --- Parte de Configuração de Ambiente ---\n",
        "\n",
        "# 1. Verificar GPU & Memória\n",
        "print(\"⏳ Verificando recursos de hardware...\")\n",
        "if 'COLAB_GPU' not in os.environ or not torch.cuda.is_available():\n",
        "    raise EnvironmentError(\"Por favor, selecione Runtime > Change runtime type > GPU e High-RAM.\")\n",
        "print(f\"✅ GPU: {torch.cuda.get_device_name(0)}, Memória Aproximada: ~25GB\")\n",
        "\n",
        "# 2. Montar Google Drive\n",
        "print(\"⏳ Montando Google Drive...\")\n",
        "try:\n",
        "    # Tenta montar sem forçar a remontagem primeiro\n",
        "    drive.mount('/content/drive', force_remount=False)\n",
        "    print(\"✅ Google Drive montado ou já conectado.\")\n",
        "except Exception as e:\n",
        "    print(f\"⚠️ Falha na montagem inicial ({e}). Tentando forçar remontagem...\")\n",
        "    try:\n",
        "        # Se falhar, tenta forçar a remontagem\n",
        "        drive.mount('/content/drive', force_remount=True)\n",
        "        print(\"✅ Google Drive remontado com sucesso.\")\n",
        "    except Exception as e_force:\n",
        "        # Se a remontagem forçada também falhar, exibe um erro crítico\n",
        "        print(f\"❌ Falha crítica ao montar Google Drive: {e_force}\")\n",
        "        raise RuntimeError(\"Falha na montagem do Google Drive. A execução não pode continuar.\")\n",
        "\n",
        "# Definindo o caminho base para os dados no Drive\n",
        "DATA_ROOT = '/content/drive/MyDrive/med-llm/data'\n",
        "# Definindo o subdiretório para PDFs raw\n",
        "PDF_ROOT = f\"{DATA_ROOT}/raw/pdfs\"\n",
        "# Cria o diretório base de dados se ele não existir\n",
        "os.makedirs(DATA_ROOT, exist_ok=True)\n",
        "print(\"📂 Caminho raiz dos dados (DATA_ROOT):\", DATA_ROOT)\n",
        "\n",
        "# 3. Criar Diretórios de Cache\n",
        "# Criando diretórios para armazenar dados intermediários e modelos.\n",
        "# Utilizar /content para cache local pode ser mais rápido que no Drive para arquivos temporários,\n",
        "# mas pode não persistir entre sessões se a instância do Colab for reciclada.\n",
        "# Os diretórios em /mnt/data são frequentemente usados por bibliotecas como accelerate.\n",
        "dirs_to_create = ['/content/data/pdf_texts', '/content/data/datasets', '/content/data/models']\n",
        "# Garante que o diretório pai /content/data existe antes de criar os subdiretórios\n",
        "os.makedirs('/content/data', exist_ok=True)\n",
        "for d in dirs_to_create:\n",
        "    os.makedirs(d, exist_ok=True)\n",
        "print(\"✅ Diretórios de cache locais criados/verificados:\", dirs_to_create)\n",
        "# Nota: Se você precisa persistência do cache entre sessões, considere usar o Drive.\n",
        "\n",
        "# --- Parte de Gerenciamento de Segredos ---\n",
        "\n",
        "# Caminho para o arquivo JSON que armazenará os segredos no Google Drive\n",
        "SECRETS_PATH = '/content/drive/MyDrive/secrets.json'\n",
        "\n",
        "def load_secrets(path):\n",
        "    \"\"\"Carrega segredos de um arquivo JSON.\"\"\"\n",
        "    try:\n",
        "        with open(path, 'r') as f:\n",
        "            return json.load(f)\n",
        "    except (FileNotFoundError, json.JSONDecodeError):\n",
        "        # Retorna um dicionário vazio se o arquivo não existir ou for inválido\n",
        "        return {}\n",
        "\n",
        "def save_secrets(secrets, path):\n",
        "    \"\"\"Salva segredos em um arquivo JSON com permissões restritas.\"\"\"\n",
        "    # Abre o arquivo com permissões de leitura/escrita apenas para o proprietário (0o600)\n",
        "    # O_WRONLY: Abre para escrita apenas\n",
        "    # O_CREAT: Cria o arquivo se não existir\n",
        "    # O_TRUNC: Trunca o arquivo para comprimento zero se ele existir\n",
        "    # 0o600: Permissões octais (rw-------)\n",
        "    fd = os.open(path, os.O_WRONLY | os.O_CREAT | os.O_TRUNC, 0o600)\n",
        "    with os.fdopen(fd, 'w') as f:\n",
        "        json.dump(secrets, f, indent=4) # Use indent para formatação legível\n",
        "\n",
        "# Carrega os segredos existentes do arquivo no Drive\n",
        "secrets = load_secrets(SECRETS_PATH)\n",
        "required_keys = ['HF_TOKEN', 'WANDB_API_KEY', 'UMLS_API_KEY']\n",
        "\n",
        "# Solicita as chaves ausentes ou vazias interativamente\n",
        "print(\"🔑 Verificando e configurando segredos...\")\n",
        "for key in required_keys:\n",
        "    # Verifica se a chave não existe ou se o valor é vazio\n",
        "    if not secrets.get(key):\n",
        "        print(f\"🤔 O segredo '{key}' não foi encontrado ou está vazio no arquivo {SECRETS_PATH}.\")\n",
        "        # Solicita a chave usando getpass para entrada segura (não exibe o texto digitado)\n",
        "        secrets[key] = getpass(f'👉 Digite o valor para \"{key}\": ').strip()\n",
        "\n",
        "# Salva os segredos atualizados de volta no arquivo JSON no Drive\n",
        "save_secrets(secrets, SECRETS_PATH)\n",
        "print(f\"✅ Segredos salvos/atualizados em {SECRETS_PATH}.\")\n",
        "\n",
        "# Define as variáveis de ambiente com os segredos carregados/solicitados\n",
        "for key, value in secrets.items():\n",
        "    os.environ[key] = value\n",
        "print(\"✅ Variáveis de ambiente para segredos configuradas.\")\n",
        "\n",
        "# --- Parte de Autenticação e Configuração de Ferramentas ---\n",
        "\n",
        "# 4. Login Weights & Biases (Agora que WANDB_API_KEY deve estar no ambiente)\n",
        "# Tenta autenticar com a chave W&B carregada/solicitada\n",
        "wandb_api_key = os.environ.get('WANDB_API_KEY')\n",
        "if wandb_api_key and len(wandb_api_key) >= 40: # Verifica se a chave parece válida (W&B API keys geralmente têm 40 caracteres, mas a validação completa é feita pelo wandb.login)\n",
        "    try:\n",
        "        print(\"⏳ Tentando autenticar no Weights & Biases...\")\n",
        "        wandb.login(key=wandb_api_key, relogin=True) # relogin=True pode ajudar em alguns ambientes\n",
        "        print(\"✅ Weights & Biases autenticado com sucesso.\")\n",
        "    except Exception as e:\n",
        "        print(f\"❌ Falha ao autenticar Weights & Biases com a chave fornecida: {e}\")\n",
        "        print(\"⚠️ Verifique sua WANDB_API_KEY.\")\n",
        "else:\n",
        "    print(\"⚠️ WANDB_API_KEY não encontrado ou inválido. Pulando autenticação W&B.\")\n",
        "\n",
        "\n",
        "# 5. Instalar Dependências com Cache\n",
        "print(\"📦 Instalando dependências...\")\n",
        "# Lista de bibliotecas essenciais\n",
        "dependencies = \"pymupdf transformers datasets accelerate bitsandbytes wandb\"\n",
        "# Instala as dependências, usando um diretório de cache temporário para acelerar\n",
        "os.system(f\"pip install --quiet --cache-dir=/tmp/pip-cache {dependencies}\")\n",
        "print(f\"✅ Dependências instaladas: {dependencies}\")\n",
        "\n",
        "# 6. Configurar accelerate\n",
        "print(\"⚙ Configurando accelerate...\")\n",
        "# Executa a configuração padrão do accelerate (interativamente, mas 'yes' responde sim para todas as perguntas)\n",
        "# Redireciona a saída para /dev/null para evitar poluir a saída do notebook\n",
        "os.system(\"yes '' | accelerate config default > /dev/null 2>&1\")\n",
        "\n",
        "# Modifica o arquivo de configuração do accelerate para habilitar mixed precision e aumentar accumulation steps\n",
        "cfg_path = 'accelerate_config.yaml'\n",
        "if os.path.exists(cfg_path):\n",
        "    try:\n",
        "        with open(cfg_path, 'r') as f:\n",
        "            config_content = f.read()\n",
        "\n",
        "        # Faz as substituições para habilitar fp16 e bf16 e aumentar gradient_accumulation_steps\n",
        "        config_content = config_content.replace('fp16: false', 'fp16: true')\n",
        "        config_content = config_content.replace('bf16: false', 'bf16: true')\n",
        "        config_content = config_content.replace('gradient_accumulation_steps: 1', 'gradient_accumulation_steps: 4')\n",
        "\n",
        "        with open(cfg_path, 'w') as f:\n",
        "            f.write(config_content)\n",
        "        print(\"⚙ accelerate configurado para fp16/bf16 & gradient_accumulation_steps=4\")\n",
        "\n",
        "    except Exception as e:\n",
        "        print(f\"❌ Falha ao modificar o arquivo accelerate_config.yaml: {e}\")\n",
        "else:\n",
        "    print(f\"⚠️ Arquivo de configuração do accelerate '{cfg_path}' não encontrado após a execução do comando 'accelerate config default'.\")\n",
        "\n",
        "\n",
        "# Opcional: Gerar link para o notebook atualizado (útil se estiver usando o Colab)\n",
        "try:\n",
        "    from google.colab import output\n",
        "    # Obtém o URL do notebook atual via JavaScript no ambiente Colab\n",
        "    notebook_link = output.eval_js(\"window.location.href\")\n",
        "    # Exibe o link como HTML clicável\n",
        "    display(HTML(f'<a href=\"{notebook_link}\" target=\"_blank\">🔗 Abrir este notebook em uma nova aba</a>'))\n",
        "except Exception as e:\n",
        "    print(f\"⚠️ Não foi possível gerar o link do notebook: {e}\")\n",
        "\n",
        "print(\"\\n✅ Configuração de ambiente e gerenciamento de segredos concluídos!\")"
      ],
      "cell_type": "code",
      "metadata": {
        "colab": {
          "base_uri": "https://localhost:8080/",
          "height": 504
        },
        "id": "4fcFj6vAcOdx",
        "outputId": "3d093feb-7df3-4081-8496-4368d3cedabc"
      },
      "id": "4fcFj6vAcOdx",
      "execution_count": null,
      "outputs": [
        {
          "output_type": "stream",
          "name": "stdout",
          "text": [
            "⏳ Verificando recursos de hardware...\n",
            "✅ GPU: Tesla T4, Memória Aproximada: ~25GB\n",
            "⏳ Montando Google Drive...\n",
            "Mounted at /content/drive\n",
            "✅ Google Drive montado ou já conectado.\n",
            "📂 Caminho raiz dos dados (DATA_ROOT): /content/drive/MyDrive/med-llm/data\n",
            "✅ Diretórios de cache locais criados/verificados: ['/content/data/pdf_texts', '/content/data/datasets', '/content/data/models']\n",
            "🔑 Verificando e configurando segredos...\n",
            "🤔 O segredo 'UMLS_API_KEY' não foi encontrado ou está vazio no arquivo /content/drive/MyDrive/secrets.json.\n",
            "👉 Digite o valor para \"UMLS_API_KEY\": ··········\n",
            "✅ Segredos salvos/atualizados em /content/drive/MyDrive/secrets.json.\n",
            "✅ Variáveis de ambiente para segredos configuradas.\n",
            "⏳ Tentando autenticar no Weights & Biases...\n"
          ]
        },
        {
          "output_type": "stream",
          "name": "stderr",
          "text": [
            "\u001b[34m\u001b[1mwandb\u001b[0m: \u001b[33mWARNING\u001b[0m If you're specifying your api key in code, ensure this code is not shared publicly.\n",
            "\u001b[34m\u001b[1mwandb\u001b[0m: \u001b[33mWARNING\u001b[0m Consider setting the WANDB_API_KEY environment variable, or running `wandb login` from the command line.\n",
            "\u001b[34m\u001b[1mwandb\u001b[0m: No netrc file found, creating one.\n",
            "\u001b[34m\u001b[1mwandb\u001b[0m: Appending key for api.wandb.ai to your netrc file: /root/.netrc\n",
            "\u001b[34m\u001b[1mwandb\u001b[0m: Currently logged in as: \u001b[33mdrmatheuscoelho\u001b[0m to \u001b[32mhttps://api.wandb.ai\u001b[0m. Use \u001b[1m`wandb login --relogin`\u001b[0m to force relogin\n"
          ]
        },
        {
          "output_type": "stream",
          "name": "stdout",
          "text": [
            "✅ Weights & Biases autenticado com sucesso.\n",
            "📦 Instalando dependências...\n",
            "✅ Dependências instaladas: pymupdf transformers datasets accelerate bitsandbytes wandb\n",
            "⚙ Configurando accelerate...\n",
            "⚠️ Arquivo de configuração do accelerate 'accelerate_config.yaml' não encontrado após a execução do comando 'accelerate config default'.\n"
          ]
        },
        {
          "output_type": "display_data",
          "data": {
            "text/plain": [
              "<IPython.core.display.HTML object>"
            ],
            "text/html": [
              "<a href=\"https://8e4nnmrvp8r-496ff2e9c6d22116-0-colab.googleusercontent.com/outputframe.html?vrz=colab_20250514-060044_RC00_758624382\" target=\"_blank\">🔗 Abrir este notebook em uma nova aba</a>"
            ]
          },
          "metadata": {}
        },
        {
          "output_type": "stream",
          "name": "stdout",
          "text": [
            "\n",
            "✅ Configuração de ambiente e gerenciamento de segredos concluídos!\n"
          ]
        }
      ]
    }
  ],
  "metadata": {
    "accelerator": "GPU",
    "colab": {
      "provenance": [],
      "include_colab_link": true
    },
    "kernelspec": {
      "name": "python3",
      "display_name": "Python 3",
      "language": "python"
    },
    "language_info": {
      "name": "python",
      "version": "3.10.4",
      "mimetype": "text/x-python",
      "codemirror_mode": {
        "name": "ipython",
        "version": 3
      },
      "pygments_lexer": "ipython3",
      "nbconvert_exporter": "python",
      "file_extension": ".py"
    }
  },
  "nbformat": 4,
  "nbformat_minor": 5
}